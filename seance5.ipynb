{
 "cells": [
  {
   "cell_type": "markdown",
   "metadata": {},
   "source": [
    "# Ex1:\n",
    "    \n",
    "1. Ecrire une fonction qui prend en entrée une fonction f et des réels a et h et donne en sortie le taux de variation (ou d'accroissement) de la fonction f entre le point d'abscisse a+h et a.\n",
    "2. Testez avec f(x)=3x^3+1x^2-5"
   ]
  },
  {
   "cell_type": "code",
   "execution_count": 3,
   "metadata": {},
   "outputs": [
    {
     "data": {
      "text/plain": [
       "4.0"
      ]
     },
     "execution_count": 3,
     "metadata": {},
     "output_type": "execute_result"
    }
   ],
   "source": [
    "import numpy\n",
    "\n",
    "\n",
    "def taux_variation(f, a, h):\n",
    "    taux = (f(a+h)-f(a))/h\n",
    "    return taux\n",
    "\n",
    "def f(x):\n",
    "    return 3*pow(x, 3) + 1*pow(x, 2) - 5\n",
    "\n",
    "taux_variation(f, 0, 1)"
   ]
  },
  {
   "cell_type": "markdown",
   "metadata": {},
   "source": [
    "# Ex2:\n",
    "1. Ecrire une fonction qui calcule la liste des coefficients directeurs pour une fonction f définit sur I=[a;b] avec un pas \"p\"\n",
    "2. Tester avec f(x)=(1+x)/(x-4) définit sur I=[0,1] avec un pas de 0.01"
   ]
  },
  {
   "cell_type": "code",
   "execution_count": 7,
   "metadata": {},
   "outputs": [
    {
     "ename": "TypeError",
     "evalue": "'float' object cannot be interpreted as an integer",
     "output_type": "error",
     "traceback": [
      "\u001B[1;31m---------------------------------------------------------------------------\u001B[0m",
      "\u001B[1;31mTypeError\u001B[0m                                 Traceback (most recent call last)",
      "\u001B[1;32m<ipython-input-7-053c6c1ef148>\u001B[0m in \u001B[0;36m<module>\u001B[1;34m\u001B[0m\n\u001B[0;32m     12\u001B[0m     \u001B[1;32mreturn\u001B[0m \u001B[1;33m(\u001B[0m\u001B[1;36m1\u001B[0m\u001B[1;33m+\u001B[0m\u001B[0mx\u001B[0m\u001B[1;33m)\u001B[0m\u001B[1;33m/\u001B[0m\u001B[1;33m(\u001B[0m\u001B[0mx\u001B[0m\u001B[1;33m-\u001B[0m\u001B[1;36m4\u001B[0m\u001B[1;33m)\u001B[0m\u001B[1;33m\u001B[0m\u001B[1;33m\u001B[0m\u001B[0m\n\u001B[0;32m     13\u001B[0m \u001B[1;33m\u001B[0m\u001B[0m\n\u001B[1;32m---> 14\u001B[1;33m \u001B[0mcoefdirecteur\u001B[0m\u001B[1;33m(\u001B[0m\u001B[0mfn\u001B[0m\u001B[1;33m,\u001B[0m \u001B[1;36m0\u001B[0m\u001B[1;33m,\u001B[0m \u001B[1;36m1\u001B[0m\u001B[1;33m,\u001B[0m \u001B[1;36m0.1\u001B[0m\u001B[1;33m)\u001B[0m\u001B[1;33m\u001B[0m\u001B[1;33m\u001B[0m\u001B[0m\n\u001B[0m",
      "\u001B[1;32m<ipython-input-7-053c6c1ef148>\u001B[0m in \u001B[0;36mcoefdirecteur\u001B[1;34m(fn, a, b, p)\u001B[0m\n\u001B[0;32m      2\u001B[0m     \u001B[0mcoef\u001B[0m \u001B[1;33m=\u001B[0m \u001B[1;33m[\u001B[0m\u001B[1;33m]\u001B[0m\u001B[1;33m\u001B[0m\u001B[1;33m\u001B[0m\u001B[0m\n\u001B[0;32m      3\u001B[0m     \u001B[1;31m# on ajoute à la liste le coef directeur entre l'intervall avec un pas p\u001B[0m\u001B[1;33m\u001B[0m\u001B[1;33m\u001B[0m\u001B[1;33m\u001B[0m\u001B[0m\n\u001B[1;32m----> 4\u001B[1;33m     \u001B[1;32mfor\u001B[0m \u001B[0mi\u001B[0m \u001B[1;32min\u001B[0m \u001B[0mrange\u001B[0m\u001B[1;33m(\u001B[0m\u001B[0ma\u001B[0m\u001B[1;33m,\u001B[0m\u001B[0mb\u001B[0m\u001B[1;33m,\u001B[0m\u001B[0mp\u001B[0m\u001B[1;33m)\u001B[0m\u001B[1;33m:\u001B[0m\u001B[1;33m\u001B[0m\u001B[1;33m\u001B[0m\u001B[0m\n\u001B[0m\u001B[0;32m      5\u001B[0m         \u001B[0mm\u001B[0m  \u001B[1;33m=\u001B[0m \u001B[0mfn\u001B[0m\u001B[1;33m(\u001B[0m\u001B[0mi\u001B[0m\u001B[1;33m)\u001B[0m\u001B[1;33m\u001B[0m\u001B[1;33m\u001B[0m\u001B[0m\n\u001B[0;32m      6\u001B[0m         \u001B[0mcoef\u001B[0m\u001B[1;33m.\u001B[0m\u001B[0mpush\u001B[0m\u001B[1;33m(\u001B[0m\u001B[0mm\u001B[0m\u001B[1;33m)\u001B[0m\u001B[1;33m\u001B[0m\u001B[1;33m\u001B[0m\u001B[0m\n",
      "\u001B[1;31mTypeError\u001B[0m: 'float' object cannot be interpreted as an integer"
     ]
    }
   ],
   "source": [
    "def coefdirecteur(fn, a, b,p):\n",
    "    coef = []\n",
    "    # on ajoute à la liste le coef directeur entre l'intervall avec un pas p\n",
    "    for i in range(a,b,p):\n",
    "        m  = fn(i)\n",
    "        coef.push(m)\n",
    "        # faire un coef.push\n",
    "\n",
    "    return coef\n",
    "\n",
    "def fn(x):\n",
    "    return (1+x)/(x-4)\n",
    "\n",
    "coefdirecteur(fn, 0, 1, 0.1)"
   ]
  },
  {
   "cell_type": "markdown",
   "metadata": {},
   "source": [
    "# Ex3:\n",
    "on considère une suite U définie par Un+1=Un+n+1 et de premier terme U0. Ecrire une fonction qui prend en entrée les valeurs de n et U0 et affiche la valeur de Un.\n",
    "1. De facon iterative\n",
    "2. Par recurence"
   ]
  },
  {
   "cell_type": "code",
   "execution_count": 1,
   "metadata": {},
   "outputs": [],
   "source": []
  },
  {
   "cell_type": "markdown",
   "metadata": {},
   "source": [
    "# Ex4:\n",
    "On pose Tn=n^2−(n−1)^2 ainsi que Sn=T1+T2+T3+...+Tn.\n",
    "1. Etant donné n, afficher la valeur de Sn."
   ]
  },
  {
   "cell_type": "code",
   "execution_count": 31,
   "metadata": {},
   "outputs": [
    {
     "data": {
      "text/plain": [
       "9"
      ]
     },
     "execution_count": 31,
     "metadata": {},
     "output_type": "execute_result"
    }
   ],
   "source": [
    "def Find_Sn(n):\n",
    "    Sn=0\n",
    "    for i in range(1,n+1):\n",
    "        Tn=i**2 -(i-1)**2\n",
    "        Sn=Sn+Tn\n",
    "    return Sn\n",
    "Find_Sn(3)"
   ]
  },
  {
   "cell_type": "markdown",
   "metadata": {},
   "source": [
    "# Ex5:\n",
    "Soit la suite définie par Un+1=0.5.Un et de premier terme U0. Plus la valeur de n augmente, plus les valeurs de Un se rapprochent de 0.\n",
    "\n",
    "Ecrire une fonction qui permet de déterminer pour un réel positif e donné, quel est le plus petit entier n tel que la valeur de Un soit inférieure à e.\n"
   ]
  },
  {
   "cell_type": "code",
   "execution_count": 27,
   "metadata": {},
   "outputs": [
    {
     "name": "stdout",
     "output_type": "stream",
     "text": [
      "[]\n"
     ]
    }
   ],
   "source": [
    "def resolve(e, u0):\n",
    "    b = 1;\n",
    "    un = u0\n",
    "    n = 0;\n",
    "    while ( b == 1 ):\n",
    "        un = uN(un)\n",
    "        if(un < e):\n",
    "            b = 0\n",
    "        else:\n",
    "            n+=1\n",
    "\n",
    "    return n;\n",
    "\n",
    "def uN(un):\n",
    "    return 0.5*un\n",
    "\n",
    "resolve(5, 2)"
   ]
  },
  {
   "cell_type": "markdown",
   "metadata": {},
   "source": [
    "# Ex6: Constante K de Catalan :\n",
    "https://fr.wikipedia.org/wiki/Constante_de_Catalan\n",
    "Ecrire une fonction qui permet de retourner une valeur approchée de la constante K et en s’arrêtant dès que la valeur absolue de la différence entre deux somme successives devienne inférieure ou égale à une erreur epsilon donnée en paramètre.\n",
    "\n"
   ]
  },
  {
   "cell_type": "code",
   "execution_count": 33,
   "metadata": {},
   "outputs": [
    {
     "name": "stdout",
     "output_type": "stream",
     "text": [
      "0.9208264046359285\n"
     ]
    }
   ],
   "source": [
    "def val_app(epsilon): \n",
    "    elm1=1\n",
    "    elm2=elm1-1/(3**2)\n",
    "    signe=1\n",
    "    val=5\n",
    "    while abs(elm2-elm1)>epsilon:\n",
    "       elm1=elm2\n",
    "       elm2=elm1+signe*(1/(val**2))\n",
    "       val+=2\n",
    "       signe*=(-1)\n",
    "    return elm2\n",
    " \n",
    "# tester la fonction\n",
    "print(val_app(0.015))"
   ]
  },
  {
   "cell_type": "markdown",
   "metadata": {},
   "source": [
    "# Ex 7:\n",
    "Ecrivez une fonction permettant de calculer la limite à epsilon près de la suite définie par la relation de récurrence :\n",
    "\n",
    "U0 =2\n",
    "Un+1= Un + 2/Un  , n>0.\n",
    "\n",
    "On arrête d’itérer quand l’intervalle entre 2 termes consécutifs devient strictement inférieur à epsilon."
   ]
  },
  {
   "cell_type": "code",
   "execution_count": null,
   "outputs": [],
   "source": [
    "def limite(epsilon):\n",
    "    U0 = 2\n",
    "    Un = U0+2/U0\n",
    "    while abs(Un-U0) > epsilon:\n",
    "        U0 = Un\n",
    "        Un = U0+2/U0\n",
    "    return Un\n",
    " \n",
    " \n",
    "print(limite(0.08))"
   ],
   "metadata": {
    "collapsed": false,
    "pycharm": {
     "name": "#%%\n"
    }
   }
  },
  {
   "cell_type": "code",
   "execution_count": null,
   "outputs": [],
   "source": [],
   "metadata": {
    "collapsed": false,
    "pycharm": {
     "name": "#%%\n"
    }
   }
  },
  {
   "cell_type": "code",
   "execution_count": 34,
   "metadata": {},
   "outputs": [
    {
     "name": "stdout",
     "output_type": "stream",
     "text": [
      "25.08721399159189\n"
     ]
    }
   ],
   "source": []
  },
  {
   "cell_type": "code",
   "execution_count": null,
   "metadata": {},
   "outputs": [],
   "source": []
  }
 ],
 "metadata": {
  "kernelspec": {
   "display_name": "Python 3",
   "language": "python",
   "name": "python3"
  },
  "language_info": {
   "codemirror_mode": {
    "name": "ipython",
    "version": 3
   },
   "file_extension": ".py",
   "mimetype": "text/x-python",
   "name": "python",
   "nbconvert_exporter": "python",
   "pygments_lexer": "ipython3",
   "version": "3.8.1"
  }
 },
 "nbformat": 4,
 "nbformat_minor": 4
}